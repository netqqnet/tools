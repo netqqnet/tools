{
 "cells": [
  {
   "cell_type": "code",
   "execution_count": 1,
   "metadata": {},
   "outputs": [
    {
     "ename": "FileNotFoundError",
     "evalue": "[Errno 2] No such file or directory: '第092课：有的字母组合很难读？关键是掌握要领1招学会tion&sion的发音规律.【公众号：花临同学，baozangku.ys168.com】.mp4' -> '第092课：有的字母组合很难读？关键是掌握要领1招学会tion&sion的发音规律..mp4'",
     "output_type": "error",
     "traceback": [
      "\u001b[0;31m---------------------------------------------------------------------------\u001b[0m",
      "\u001b[0;31mFileNotFoundError\u001b[0m                         Traceback (most recent call last)",
      "\u001b[0;32m<ipython-input-1-4bea5847084f>\u001b[0m in \u001b[0;36m<module>\u001b[0;34m\u001b[0m\n\u001b[1;32m     14\u001b[0m \u001b[0;34m\u001b[0m\u001b[0m\n\u001b[1;32m     15\u001b[0m    \u001b[0;31m# path = os.getcwd()   # 获取当前目录\u001b[0m\u001b[0;34m\u001b[0m\u001b[0;34m\u001b[0m\u001b[0;34m\u001b[0m\u001b[0m\n\u001b[0;32m---> 16\u001b[0;31m     \u001b[0mfilter_filenameAD\u001b[0m\u001b[0;34m(\u001b[0m\u001b[0mpath\u001b[0m\u001b[0;34m,\u001b[0m\u001b[0ms\u001b[0m\u001b[0;34m)\u001b[0m\u001b[0;34m\u001b[0m\u001b[0;34m\u001b[0m\u001b[0m\n\u001b[0m",
      "\u001b[0;32m<ipython-input-1-4bea5847084f>\u001b[0m in \u001b[0;36mfilter_filenameAD\u001b[0;34m(path, s)\u001b[0m\n\u001b[1;32m      6\u001b[0m         \u001b[0mused_fileName\u001b[0m\u001b[0;34m,\u001b[0m\u001b[0mextension\u001b[0m \u001b[0;34m=\u001b[0m \u001b[0mos\u001b[0m\u001b[0;34m.\u001b[0m\u001b[0mpath\u001b[0m\u001b[0;34m.\u001b[0m\u001b[0msplitext\u001b[0m\u001b[0;34m(\u001b[0m\u001b[0mfile\u001b[0m\u001b[0;34m)\u001b[0m\u001b[0;34m\u001b[0m\u001b[0;34m\u001b[0m\u001b[0m\n\u001b[1;32m      7\u001b[0m         \u001b[0mnew_file\u001b[0m \u001b[0;34m=\u001b[0m  \u001b[0mused_fileName\u001b[0m\u001b[0;34m.\u001b[0m\u001b[0mreplace\u001b[0m\u001b[0;34m(\u001b[0m\u001b[0ms\u001b[0m\u001b[0;34m,\u001b[0m\u001b[0;34m''\u001b[0m\u001b[0;34m)\u001b[0m \u001b[0;34m+\u001b[0m \u001b[0mextension\u001b[0m\u001b[0;34m;\u001b[0m\u001b[0;34m\u001b[0m\u001b[0;34m\u001b[0m\u001b[0m\n\u001b[0;32m----> 8\u001b[0;31m         \u001b[0mos\u001b[0m\u001b[0;34m.\u001b[0m\u001b[0mrename\u001b[0m\u001b[0;34m(\u001b[0m\u001b[0mfile\u001b[0m\u001b[0;34m,\u001b[0m \u001b[0mnew_file\u001b[0m\u001b[0;34m)\u001b[0m\u001b[0;34m\u001b[0m\u001b[0;34m\u001b[0m\u001b[0m\n\u001b[0m\u001b[1;32m      9\u001b[0m         \u001b[0mprint\u001b[0m\u001b[0;34m(\u001b[0m\u001b[0;34m\"文件%s重命名成功，新的文件名为：%s\"\u001b[0m \u001b[0;34m%\u001b[0m\u001b[0;34m(\u001b[0m\u001b[0mpath\u001b[0m\u001b[0;34m+\u001b[0m\u001b[0mfile\u001b[0m\u001b[0;34m,\u001b[0m \u001b[0mpath\u001b[0m\u001b[0;34m+\u001b[0m\u001b[0mnew_file\u001b[0m\u001b[0;34m)\u001b[0m\u001b[0;34m)\u001b[0m\u001b[0;34m\u001b[0m\u001b[0;34m\u001b[0m\u001b[0m\n\u001b[1;32m     10\u001b[0m \u001b[0;34m\u001b[0m\u001b[0m\n",
      "\u001b[0;31mFileNotFoundError\u001b[0m: [Errno 2] No such file or directory: '第092课：有的字母组合很难读？关键是掌握要领1招学会tion&sion的发音规律.【公众号：花临同学，baozangku.ys168.com】.mp4' -> '第092课：有的字母组合很难读？关键是掌握要领1招学会tion&sion的发音规律..mp4'"
     ]
    }
   ],
   "source": [
    "import os \n",
    "\n",
    "def filter_filenameAD(path,s):\n",
    "    fileList = os.listdir(path)\n",
    "    for file in fileList:\n",
    "        used_fileName,extension = os.path.splitext(file)\n",
    "        new_file =  used_fileName.replace(s,'') + extension;\n",
    "        os.rename(file, new_file)\n",
    "        print(\"文件%s重命名成功，新的文件名为：%s\" %(path+file, path+new_file))\n",
    "    \n",
    "if __name__=='__main__':     \n",
    "    path=\"/Users/linqing/Downloads/孙志立英语自然拼读100讲（完结）\" \n",
    "    s = \"【公众号：花临同学，baozangku.ys168.com】\"       #带过滤的广告\n",
    "\n",
    "   # path = os.getcwd()   # 获取当前目录\n",
    "    filter_filenameAD(path,s)"
   ]
  }
 ],
 "metadata": {
  "interpreter": {
   "hash": "4fd0b2b8edf4bdcfe9cc4538e1fc8fc607973a40f5ac3be8bdf9226448f67003"
  },
  "kernelspec": {
   "display_name": "Python 3.6.8 64-bit ('kafka': venv)",
   "name": "python3"
  },
  "language_info": {
   "codemirror_mode": {
    "name": "ipython",
    "version": 3
   },
   "file_extension": ".py",
   "mimetype": "text/x-python",
   "name": "python",
   "nbconvert_exporter": "python",
   "pygments_lexer": "ipython3",
   "version": "3.6.8"
  },
  "orig_nbformat": 4
 },
 "nbformat": 4,
 "nbformat_minor": 2
}
