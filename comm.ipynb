{
 "cells": [
  {
   "cell_type": "code",
   "execution_count": null,
   "metadata": {},
   "outputs": [],
   "source": [
    "import os\n",
    "f = open('100.txt')\n",
    "c = ''\n",
    "i=0\n",
    "for line in f.readlines():\n",
    "    if line.split():\n",
    "        i=i+1\n",
    "        if i%4==0:\n",
    "            c = c+line.strip()+'\\n'\n",
    "        else:\n",
    "            c = c +line.strip()+\"|\"\n",
    "\n",
    "print(c)"
   ]
  },
  {
   "cell_type": "code",
   "execution_count": null,
   "metadata": {},
   "outputs": [],
   "source": [
    "import random\n",
    "random.randrange(2,5)"
   ]
  },
  {
   "cell_type": "code",
   "execution_count": null,
   "metadata": {},
   "outputs": [],
   "source": [
    "import os\n",
    "cur_path = '/Users/linqing/code/BVtraining/server/src/main/resources/python'\n",
    "ignore_set = set([\"__init__.py\", \"count_sourcelines.py\"])\n",
    "loclist = []\n",
    "for pydir, _, pyfiles in os.walk(cur_path):\n",
    "    for pyfile in pyfiles:\n",
    "        if pyfile.endswith(\".py\") and pyfile not in ignore_set:\n",
    "            totalpath = os.path.join(pydir, pyfile)\n",
    "            loclist.append( ( len(open(totalpath, \"r\").read().splitlines()),\n",
    "                               totalpath.split(cur_path)[1]) )\n",
    "\n",
    "for linenumbercount, filename in loclist: \n",
    "    print(\"%05d lines in %s\" % (linenumbercount, filename))\n",
    "\n",
    "print( \"\\nTotal: %s lines (%s)\" %(sum([x[0] for x in loclist]), cur_path))\n"
   ]
  },
  {
   "cell_type": "code",
   "execution_count": null,
   "metadata": {},
   "outputs": [],
   "source": [
    "import numpy as np\n",
    "import matplotlib.pyplot as plt\n",
    "\n",
    "# Compute the x and y coordinates for points on a sine curve\n",
    "x = np.arange(0, 3 * np.pi, 0.1)\n",
    "y = np.sin(x)\n",
    "\n",
    "# Plot the points using matplotlib\n",
    "plt.plot(x, y)\n",
    "plt.show()  # You must call plt.show() to make graphics appear."
   ]
  },
  {
   "cell_type": "code",
   "execution_count": null,
   "metadata": {},
   "outputs": [],
   "source": [
    "a = '1,2,3,4'\n",
    "[float(i) for i in a.split(',')]"
   ]
  },
  {
   "cell_type": "code",
   "execution_count": null,
   "metadata": {
    "tags": [
     "outputPrepend"
    ]
   },
   "outputs": [],
   "source": [
    "import os\n",
    "path = '/Users/linqing/Downloads/环卫事件'\n",
    "count = 0\n",
    "for root,dirs,files in os.walk(path):    #遍历统计\n",
    "        for each in files:\n",
    "            count = count + 1  #统计文件夹下文件个数\n",
    "print(count)  # 输出结果"
   ]
  },
  {
   "cell_type": "code",
   "execution_count": null,
   "metadata": {
    "tags": [
     "outputPrepend"
    ]
   },
   "outputs": [],
   "source": [
    "import os,json,requests\n",
    "urls = 'j.json'\n",
    "file_path = '/Users/linqing/Documents/项目/环卫/数据/letswade'\n",
    "if not os.path.exists(file_path):\n",
    "    os.mkdir(file_path)\n",
    "    \n",
    "def download(url):\n",
    "    filename = os.path.basename(url)\n",
    "    try:\n",
    "        r = requests.get(url)\n",
    "        if r.status_code == 200:\n",
    "            with open(os.path.join(file_path,filename),'wb') as fp:\n",
    "                fp.write(r.content)\n",
    "                fp.close() \n",
    "        print('ok')\n",
    "    except Exception as e:\n",
    "        print(e)\n",
    "\n",
    "f = open(urls,encoding='utf-8')\n",
    "content = f.read()\n",
    "c = json.loads(content)\n",
    "t = c['images']\n",
    "flickr_url_list = [i['flickr_url'] for i in t]\n",
    "# for i in flickr_url_list:\n",
    "#     download(i)\n",
    "\n",
    "print(len(flickr_url_list))\n"
   ]
  },
  {
   "cell_type": "code",
   "execution_count": null,
   "metadata": {},
   "outputs": [],
   "source": [
    "def bytes2human(n):\n",
    "    symbols = ('K', 'M', 'G', 'T', 'P', 'E', 'Z', 'Y')\n",
    "    prefix = {}\n",
    "    for i, s in enumerate(symbols):\n",
    "        prefix[s] = 1 << (i + 1) * 10\n",
    "    for s in reversed(symbols):\n",
    "        if n >= prefix[s]:\n",
    "            value = float(n) / prefix[s]\n",
    "            return '%.1f%s' % (value,s)\n",
    "    return '%sB' % n\n",
    "bytes2human(2147483647)\n"
   ]
  },
  {
   "cell_type": "code",
   "execution_count": null,
   "metadata": {
    "tags": []
   },
   "outputs": [],
   "source": [
    "import os ,os.path ,time,re\n",
    "\n",
    "def rename(file):\n",
    "    ''' file: 文件路径    keyWord: 需要修改的文件中所包含的关键字 '''\n",
    "    start =time.clock()\n",
    "    os.chdir(file)\n",
    "    items = os.listdir(file)\n",
    "    print(os.getcwd())\n",
    "    for name in items :\n",
    "        # if name.endswith('avi'):\n",
    "        #     continue\n",
    "        (shotname,extension) = os.path.splitext(name)\n",
    "        new_name = re.sub(r\"\\s\", \"\", shotname)\n",
    "        os.renames(name,new_name+extension)\n",
    "\n",
    "    print('-----------------------分界线------------------------')\n",
    "    items = os.listdir(file)\n",
    "    for name in items:\n",
    "        print(name)\n",
    "\n",
    "path = '/Users/linqing/Documents/other/下载的/Dora171/朵拉英文版第四季视频'\n",
    "rename(path)\n",
    "\n",
    "\n",
    "\n",
    "\n"
   ]
  },
  {
   "cell_type": "code",
   "execution_count": null,
   "metadata": {
    "tags": []
   },
   "outputs": [],
   "source": [
    "import os,re\n",
    "s = '2012.TheBigStorm.avi'\n",
    "ss = '英文版第2季01'\n",
    "s2 = '322+-+Best+Friends.avi'\n",
    "print(len(ss))\n",
    "ns = re.sub(\"^\\d\", \"\", s) \n",
    "(shotname,extension) = os.path.splitext(s)\n",
    "print(\"%s %s\" % (shotname,extension))\n",
    "print(ns)"
   ]
  },
  {
   "cell_type": "code",
   "execution_count": 19,
   "metadata": {
    "tags": []
   },
   "outputs": [
    {
     "output_type": "stream",
     "name": "stdout",
     "text": "2967\n道路不洁:393\n道路旁绿化带垃圾:600\n道路遗撒:4\n道路烟蒂、果皮:709\n道路垃圾:1068\n道路积水:195\n['道路不洁', '.DS_Store', '道路旁绿化带垃圾', '道路遗撒', '道路烟蒂、果皮', '道路垃圾', '道路积水']\n"
    }
   ],
   "source": [
    "import os\n",
    "EXT = ['.jpg', '.jpeg']\n",
    "dir_path = '/Users/linqing/Pictures/第二批次/2020年08月11日'\n",
    "img_files = [os.path.join(rootdir, file) for rootdir, _, files in os.walk(dir_path) for file in files if\n",
    "                 (os.path.splitext(file)[-1] in EXT)]\n",
    "print(len(img_files))\n",
    "for root,dirs,files in os.walk(dir_path):\n",
    "    for i in dirs:\n",
    "        for root,dirs,files in os.walk(os.path.join(dir_path,i)):\n",
    "            print('%s:%d' % (i,len(files)))\n",
    "dirs = os.listdir(dir_path)  \n",
    "print(dirs)  "
   ]
  },
  {
   "cell_type": "code",
   "execution_count": null,
   "metadata": {},
   "outputs": [],
   "source": []
  }
 ],
 "metadata": {
  "language_info": {
   "name": "python",
   "codemirror_mode": {
    "name": "ipython",
    "version": 3
   },
   "version": "3.6.8-final"
  },
  "orig_nbformat": 2,
  "file_extension": ".py",
  "mimetype": "text/x-python",
  "name": "python",
  "npconvert_exporter": "python",
  "pygments_lexer": "ipython3",
  "version": 3,
  "kernelspec": {
   "name": "python36864bitkafkavenva2688b1f42d44da3a03a2ea6b9b0c178",
   "display_name": "Python 3.6.8 64-bit ('kafka': venv)"
  }
 },
 "nbformat": 4,
 "nbformat_minor": 2
}