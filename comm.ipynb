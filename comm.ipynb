{
 "cells": [
  {
   "cell_type": "code",
   "execution_count": null,
   "metadata": {},
   "outputs": [],
   "source": [
    "import os\n",
    "cur_path = '/Users/linqing/code/BVtraining/server/src/main/resources/python'\n",
    "ignore_set = set([\"__init__.py\", \"count_sourcelines.py\"])\n",
    "loclist = []\n",
    "for pydir, _, pyfiles in os.walk(cur_path):\n",
    "    for pyfile in pyfiles:\n",
    "        if pyfile.endswith(\".py\") and pyfile not in ignore_set:\n",
    "            totalpath = os.path.join(pydir, pyfile)\n",
    "            loclist.append( ( len(open(totalpath, \"r\").read().splitlines()),\n",
    "                               totalpath.split(cur_path)[1]) )\n",
    "\n",
    "for linenumbercount, filename in loclist: \n",
    "    print(\"%05d lines in %s\" % (linenumbercount, filename))\n",
    "\n",
    "print( \"\\nTotal: %s lines (%s)\" %(sum([x[0] for x in loclist]), cur_path))\n"
   ]
  },
  {
   "cell_type": "code",
   "execution_count": null,
   "metadata": {},
   "outputs": [],
   "source": [
    "import numpy as np\n",
    "import matplotlib.pyplot as plt\n",
    "\n",
    "# Compute the x and y coordinates for points on a sine curve\n",
    "x = np.arange(0, 3 * np.pi, 0.1)\n",
    "y = np.sin(x)\n",
    "\n",
    "# Plot the points using matplotlib\n",
    "plt.plot(x, y)\n",
    "plt.show()  # You must call plt.show() to make graphics appear."
   ]
  },
  {
   "cell_type": "code",
   "execution_count": null,
   "metadata": {},
   "outputs": [],
   "source": [
    "a = '1,2,3,4'\n",
    "[float(i) for i in a.split(',')]"
   ]
  },
  {
   "cell_type": "code",
   "execution_count": null,
   "metadata": {
    "tags": []
   },
   "outputs": [],
   "source": [
    "import os\n",
    "path = '/Users/linqing/Downloads/'\n",
    "count = 0\n",
    "for root,dirs,files in os.walk(path):    #遍历统计\n",
    "        for each in files:\n",
    "            count = count + 1  #统计文件夹下文件个数\n",
    "print(count)  # 输出结果"
   ]
  },
  {
   "cell_type": "code",
   "execution_count": null,
   "metadata": {
    "tags": [
     "outputPrepend"
    ]
   },
   "outputs": [],
   "source": [
    "import os,json,requests\n",
    "urls = 'j.json'\n",
    "file_path = '/Users/linqing/Documents/项目/环卫/数据/letswade'\n",
    "if not os.path.exists(file_path):\n",
    "    os.mkdir(file_path)\n",
    "    \n",
    "def download(url):\n",
    "    filename = os.path.basename(url)\n",
    "    try:\n",
    "        r = requests.get(url)\n",
    "        if r.status_code == 200:\n",
    "            with open(os.path.join(file_path,filename),'wb') as fp:\n",
    "                fp.write(r.content)\n",
    "                fp.close() \n",
    "        print('ok')\n",
    "    except Exception as e:\n",
    "        print(e)\n",
    "\n",
    "f = open(urls,encoding='utf-8')\n",
    "content = f.read()\n",
    "c = json.loads(content)\n",
    "t = c['images']\n",
    "flickr_url_list = [i['flickr_url'] for i in t]\n",
    "# for i in flickr_url_list:\n",
    "#     download(i)\n",
    "\n",
    "print(len(flickr_url_list))\n"
   ]
  },
  {
   "cell_type": "code",
   "execution_count": null,
   "metadata": {},
   "outputs": [],
   "source": [
    "def bytes2human(n):\n",
    "    symbols = ('K', 'M', 'G', 'T', 'P', 'E', 'Z', 'Y')\n",
    "    prefix = {}\n",
    "    for i, s in enumerate(symbols):\n",
    "        prefix[s] = 1 << (i + 1) * 10\n",
    "    for s in reversed(symbols):\n",
    "        if n >= prefix[s]:\n",
    "            value = float(n) / prefix[s]\n",
    "            return '%.1f%s' % (value,s)\n",
    "    return '%sB' % n\n",
    "bytes2human(2147483647)\n"
   ]
  },
  {
   "cell_type": "code",
   "execution_count": null,
   "metadata": {
    "tags": []
   },
   "outputs": [],
   "source": [
    "import os\n",
    "EXT = ['.jpg', '.jpeg']\n",
    "dir_path = '/Users/linqing/'\n",
    "img_files = [os.path.join(rootdir, file) for rootdir, _, files in os.walk(dir_path) for file in files if\n",
    "                 (os.path.splitext(file)[-1] in EXT)]\n",
    "print(len(img_files))\n",
    "for root,dirs,files in os.walk(dir_path):\n",
    "    for i in dirs:\n",
    "        for root,dirs,files in os.walk(os.path.join(dir_path,i)):\n",
    "            print('%s:%d' % (i,len(files)))\n",
    "dirs = os.listdir(dir_path)  \n",
    "print(dirs)  "
   ]
  },
  {
   "cell_type": "code",
   "execution_count": null,
   "metadata": {
    "tags": []
   },
   "outputs": [],
   "source": [
    "import os\n",
    "path = '/Users/linqing/Pictures/蛋蛋娃/素材的副本'\n",
    "s = os.listdir(path)\n",
    "print(s)"
   ]
  },
  {
   "cell_type": "code",
   "execution_count": null,
   "metadata": {},
   "outputs": [],
   "source": [
    "def main(path,opath):\n",
    "    #获取当前文件夹下面的所有文件，不包含文件夹\n",
    "    filenames = [x for x in os.listdir(path)]\n",
    "\n",
    "    #根据文件的创建时间对文件分类\n",
    "    for file in filenames:\n",
    "        os.chdir(opath)\n",
    "        year = get_FileCreateTime(file)\n",
    "        if not os.path.exists(year):\n",
    "            os.makedirs(year)\n",
    "            print('Create '+year+' success')\n",
    "        des_path = year + '/' + file\n",
    "        shutil.copyfile(file, des_path)#移动文件或文件夹\n",
    " \n",
    "    path ='/Users/linqing/Pictures/蛋蛋娃/素材'\n",
    "    opath = '/Users/linqing/Pictures/蛋蛋娃/分类'\n",
    "    main(path,opath)"
   ]
  },
  {
   "cell_type": "code",
   "execution_count": 14,
   "metadata": {
    "tags": []
   },
   "outputs": [
    {
     "output_type": "stream",
     "name": "stdout",
     "text": "{'c1': 11, 'c2': 22}\n"
    }
   ],
   "source": [
    "class ObjectDict(dict):\n",
    "    \"\"\"Makes a dictionary behave like an object.\"\"\"\n",
    "    def __getattr__(self, name):\n",
    "        try:\n",
    "            return self[name]\n",
    "        except KeyError:\n",
    "            raise AttributeError(name)\n",
    "\n",
    "    def __setattr__(self, name, value):\n",
    "        self[name] = value\n",
    "\n",
    "c = {'c1':11,'c2':22}\n",
    "d = {'a':1,'b':2}\n",
    "o  = ObjectDict(d)\n",
    "o.__setattr__('c',c)\n",
    "\n",
    "print(o.c)"
   ]
  },
  {
   "cell_type": "code",
   "execution_count": null,
   "metadata": {},
   "outputs": [],
   "source": []
  }
 ],
 "metadata": {
  "language_info": {
   "name": "python",
   "codemirror_mode": {
    "name": "ipython",
    "version": 3
   },
   "version": "3.6.8-final"
  },
  "orig_nbformat": 2,
  "file_extension": ".py",
  "mimetype": "text/x-python",
  "name": "python",
  "npconvert_exporter": "python",
  "pygments_lexer": "ipython3",
  "version": 3,
  "kernelspec": {
   "name": "python36864bitkafkavenva2688b1f42d44da3a03a2ea6b9b0c178",
   "display_name": "Python 3.6.8 64-bit ('kafka': venv)"
  }
 },
 "nbformat": 4,
 "nbformat_minor": 2
}